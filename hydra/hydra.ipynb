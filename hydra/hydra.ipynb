{
 "cells": [
  {
   "cell_type": "markdown",
   "id": "d4c8a924",
   "metadata": {},
   "source": [
    "## Hydra Overview\n",
    "\n",
    "**Hydra** is a framework for **managing complex configurations** in Python applications.  \n",
    "It is especially popular in **machine learning, deep learning, and research projects**,  \n",
    "where experiments often require many configurable options.\n",
    "\n",
    "Hydra organizes settings into **YAML files**, which can be structured in a modular way.  \n",
    "For example:\n",
    "\n",
    "\n",
    "```text\n",
    "config/\n",
    "├── config.yaml        # Main configuration file\n",
    "├── dataset/\n",
    "│   ├── cifar10.yaml   # Dataset-specific configs\n",
    "│   └── imagenet.yaml\n",
    "└── model/\n",
    "    ├── resnet50.yaml  # Model-specific configs\n",
    "    └── transformer.yaml\n",
    "```\n",
    "\n",
    "The content of 'config.yaml' looks like below:\n",
    "\n",
    "```text\n",
    "defaults:\n",
    "  - dataset: cifar10\n",
    "  - model: resnet\n",
    "\n",
    "training:\n",
    "  epochs: 10\n",
    "  seed: 42\n",
    "```\n"
   ]
  },
  {
   "cell_type": "code",
   "execution_count": 17,
   "id": "551a3f23",
   "metadata": {},
   "outputs": [
    {
     "name": "stdout",
     "output_type": "stream",
     "text": [
      "Configuration:\n",
      "--------------\n",
      "Dataset:  {'name': 'CIFAR10', 'path': '/data/cifar10', 'num_classes': 10, 'img_size': 32, 'batch_size': 64}\n",
      "Model:  {'name': 'ResNet50', 'layers': 50, 'pretrained': True, 'lr': 0.001, 'weight_decay': 0.0001}\n",
      "Training:  {'epochs': 10, 'seed': 42}\n"
     ]
    }
   ],
   "source": [
    "!python main.py"
   ]
  },
  {
   "cell_type": "code",
   "execution_count": null,
   "id": "1a60962c",
   "metadata": {},
   "outputs": [],
   "source": []
  }
 ],
 "metadata": {
  "kernelspec": {
   "display_name": "cheatsheets",
   "language": "python",
   "name": "python3"
  },
  "language_info": {
   "codemirror_mode": {
    "name": "ipython",
    "version": 3
   },
   "file_extension": ".py",
   "mimetype": "text/x-python",
   "name": "python",
   "nbconvert_exporter": "python",
   "pygments_lexer": "ipython3",
   "version": "3.13.5"
  }
 },
 "nbformat": 4,
 "nbformat_minor": 5
}
